{
 "cells": [
  {
   "attachments": {},
   "cell_type": "markdown",
   "metadata": {},
   "source": [
    "這個比賽是一個分兩類的比賽，似乎定期會推出不同的比賽\n",
    "連結:https://www.kaggle.com/competitions/playground-series-s3e12\n",
    "選擇此比賽原因最主要是因為該比賽的資料集已經經過初步結構化，對第一次參加比賽的我比較友善，且欄位、features也比較少。\n",
    "針對此資料集，包含ID共有8個欄位，而有一個欄位就是判斷的目標，其餘的欄位也都是以數字組成的欄位，最主要集是要判對各個ID的target該是甚麼。"
   ]
  },
  {
   "attachments": {},
   "cell_type": "markdown",
   "metadata": {},
   "source": [
    "以下就是我的實作程式碼，不過在這裡先簡述我的思路及我的實作與上課的關聯，甚至我延伸學習了甚麼:\n",
    "首先老師在課堂中帶我們走了分類問題的其中一個基本模型--logisticregression，並教我們如和建模、將模型套用在資料及上，以及切分資料集，這些我在這次實作中都有應用到。但另一方面，我還想知道，藉由這次機會，是否能比較一些大家都常用來分類的模型來比較看看到底哪個模型最準。於是我最終選擇了logisticregression, decision tree, random forest, KNN, svm共五個模型進行比較，在沒調整參數的情況下比較出結果後，我認為參數的調整也是影響模型表現得很大一個因素。因此我將表現最好的模型選出來，利用sklearn的grid search找最佳參數，結果順利提升了一些準確度。\n",
    "最終的結果以及反思則寫在coding後面"
   ]
  },
  {
   "cell_type": "code",
   "execution_count": 2,
   "metadata": {},
   "outputs": [],
   "source": [
    "#先載入會使用到的資料庫\n",
    "import pandas as pd\n",
    "import numpy as np\n",
    "import seaborn as sns\n",
    "import matplotlib as plt\n",
    "\n"
   ]
  },
  {
   "cell_type": "code",
   "execution_count": 3,
   "metadata": {},
   "outputs": [],
   "source": [
    "#將training 資料導入並定義df\n",
    "df = pd.read_csv(\"C:\\\\Users\\\\rick\\\\AI code\\\\midterm\\\\train.csv\")"
   ]
  },
  {
   "cell_type": "code",
   "execution_count": 4,
   "metadata": {},
   "outputs": [
    {
     "data": {
      "text/html": [
       "<div>\n",
       "<style scoped>\n",
       "    .dataframe tbody tr th:only-of-type {\n",
       "        vertical-align: middle;\n",
       "    }\n",
       "\n",
       "    .dataframe tbody tr th {\n",
       "        vertical-align: top;\n",
       "    }\n",
       "\n",
       "    .dataframe thead th {\n",
       "        text-align: right;\n",
       "    }\n",
       "</style>\n",
       "<table border=\"1\" class=\"dataframe\">\n",
       "  <thead>\n",
       "    <tr style=\"text-align: right;\">\n",
       "      <th></th>\n",
       "      <th>count</th>\n",
       "      <th>mean</th>\n",
       "      <th>std</th>\n",
       "      <th>min</th>\n",
       "      <th>25%</th>\n",
       "      <th>50%</th>\n",
       "      <th>75%</th>\n",
       "      <th>max</th>\n",
       "    </tr>\n",
       "  </thead>\n",
       "  <tbody>\n",
       "    <tr>\n",
       "      <th>id</th>\n",
       "      <td>414.0</td>\n",
       "      <td>206.500000</td>\n",
       "      <td>119.655756</td>\n",
       "      <td>0.000</td>\n",
       "      <td>103.250</td>\n",
       "      <td>206.500</td>\n",
       "      <td>309.750</td>\n",
       "      <td>413.00</td>\n",
       "    </tr>\n",
       "    <tr>\n",
       "      <th>gravity</th>\n",
       "      <td>414.0</td>\n",
       "      <td>1.017894</td>\n",
       "      <td>0.006675</td>\n",
       "      <td>1.005</td>\n",
       "      <td>1.012</td>\n",
       "      <td>1.018</td>\n",
       "      <td>1.022</td>\n",
       "      <td>1.04</td>\n",
       "    </tr>\n",
       "    <tr>\n",
       "      <th>ph</th>\n",
       "      <td>414.0</td>\n",
       "      <td>5.955459</td>\n",
       "      <td>0.642260</td>\n",
       "      <td>4.760</td>\n",
       "      <td>5.530</td>\n",
       "      <td>5.740</td>\n",
       "      <td>6.280</td>\n",
       "      <td>7.94</td>\n",
       "    </tr>\n",
       "    <tr>\n",
       "      <th>osmo</th>\n",
       "      <td>414.0</td>\n",
       "      <td>651.545894</td>\n",
       "      <td>234.676567</td>\n",
       "      <td>187.000</td>\n",
       "      <td>455.250</td>\n",
       "      <td>679.500</td>\n",
       "      <td>840.000</td>\n",
       "      <td>1236.00</td>\n",
       "    </tr>\n",
       "    <tr>\n",
       "      <th>cond</th>\n",
       "      <td>414.0</td>\n",
       "      <td>21.437923</td>\n",
       "      <td>7.514750</td>\n",
       "      <td>5.100</td>\n",
       "      <td>15.500</td>\n",
       "      <td>22.200</td>\n",
       "      <td>27.600</td>\n",
       "      <td>38.00</td>\n",
       "    </tr>\n",
       "    <tr>\n",
       "      <th>urea</th>\n",
       "      <td>414.0</td>\n",
       "      <td>278.657005</td>\n",
       "      <td>136.442249</td>\n",
       "      <td>10.000</td>\n",
       "      <td>170.000</td>\n",
       "      <td>277.000</td>\n",
       "      <td>385.000</td>\n",
       "      <td>620.00</td>\n",
       "    </tr>\n",
       "    <tr>\n",
       "      <th>calc</th>\n",
       "      <td>414.0</td>\n",
       "      <td>4.114638</td>\n",
       "      <td>3.217641</td>\n",
       "      <td>0.170</td>\n",
       "      <td>1.450</td>\n",
       "      <td>3.130</td>\n",
       "      <td>6.630</td>\n",
       "      <td>14.34</td>\n",
       "    </tr>\n",
       "    <tr>\n",
       "      <th>target</th>\n",
       "      <td>414.0</td>\n",
       "      <td>0.444444</td>\n",
       "      <td>0.497505</td>\n",
       "      <td>0.000</td>\n",
       "      <td>0.000</td>\n",
       "      <td>0.000</td>\n",
       "      <td>1.000</td>\n",
       "      <td>1.00</td>\n",
       "    </tr>\n",
       "  </tbody>\n",
       "</table>\n",
       "</div>"
      ],
      "text/plain": [
       "         count        mean         std      min      25%      50%      75%  \\\n",
       "id       414.0  206.500000  119.655756    0.000  103.250  206.500  309.750   \n",
       "gravity  414.0    1.017894    0.006675    1.005    1.012    1.018    1.022   \n",
       "ph       414.0    5.955459    0.642260    4.760    5.530    5.740    6.280   \n",
       "osmo     414.0  651.545894  234.676567  187.000  455.250  679.500  840.000   \n",
       "cond     414.0   21.437923    7.514750    5.100   15.500   22.200   27.600   \n",
       "urea     414.0  278.657005  136.442249   10.000  170.000  277.000  385.000   \n",
       "calc     414.0    4.114638    3.217641    0.170    1.450    3.130    6.630   \n",
       "target   414.0    0.444444    0.497505    0.000    0.000    0.000    1.000   \n",
       "\n",
       "             max  \n",
       "id        413.00  \n",
       "gravity     1.04  \n",
       "ph          7.94  \n",
       "osmo     1236.00  \n",
       "cond       38.00  \n",
       "urea      620.00  \n",
       "calc       14.34  \n",
       "target      1.00  "
      ]
     },
     "execution_count": 4,
     "metadata": {},
     "output_type": "execute_result"
    }
   ],
   "source": [
    "#觀察資料的架構\n",
    "df.head()\n",
    "df.describe().T"
   ]
  },
  {
   "cell_type": "code",
   "execution_count": 7,
   "metadata": {},
   "outputs": [
    {
     "name": "stdout",
     "output_type": "stream",
     "text": [
      "<class 'pandas.core.frame.DataFrame'>\n",
      "RangeIndex: 414 entries, 0 to 413\n",
      "Data columns (total 8 columns):\n",
      " #   Column   Non-Null Count  Dtype  \n",
      "---  ------   --------------  -----  \n",
      " 0   id       414 non-null    int64  \n",
      " 1   gravity  414 non-null    float64\n",
      " 2   ph       414 non-null    float64\n",
      " 3   osmo     414 non-null    int64  \n",
      " 4   cond     414 non-null    float64\n",
      " 5   urea     414 non-null    int64  \n",
      " 6   calc     414 non-null    float64\n",
      " 7   target   414 non-null    int64  \n",
      "dtypes: float64(4), int64(4)\n",
      "memory usage: 26.0 KB\n"
     ]
    }
   ],
   "source": [
    "#查看資料有無缺失值，並得知每個欄位的資料type(可發現此資料已經過初步結構化)\n",
    "df.info()"
   ]
  },
  {
   "cell_type": "code",
   "execution_count": 9,
   "metadata": {},
   "outputs": [
    {
     "data": {
      "text/plain": [
       "0    230\n",
       "1    184\n",
       "Name: target, dtype: int64"
      ]
     },
     "execution_count": 9,
     "metadata": {},
     "output_type": "execute_result"
    }
   ],
   "source": [
    "#利用此行程式確認資料是否為imbalanced data(結果顯示還算平衡)\n",
    "#若結果為imbalanced data 可能要用oversampling 或 undersampling的方式去平衡資料\n",
    "df['target'].value_counts()"
   ]
  },
  {
   "cell_type": "code",
   "execution_count": 10,
   "metadata": {},
   "outputs": [
    {
     "data": {
      "text/plain": [
       "<seaborn.axisgrid.PairGrid at 0x2221fe385b0>"
      ]
     },
     "execution_count": 10,
     "metadata": {},
     "output_type": "execute_result"
    },
    {
     "data": {
      "image/png": "[encoded data removed]",
      "text/plain": [
       "<Figure size 500x500 with 6 Axes>"
      ]
     },
     "metadata": {},
     "output_type": "display_data"
    }
   ],
   "source": [
    "#在這張圖中能發現gravity越接近平均值被判為一個機率更高\n",
    "sns.pairplot(df[['target','gravity']],dropna=True)"
   ]
  },
  {
   "cell_type": "code",
   "execution_count": 11,
   "metadata": {},
   "outputs": [
    {
     "data": {
      "text/html": [
       "<div>\n",
       "<style scoped>\n",
       "    .dataframe tbody tr th:only-of-type {\n",
       "        vertical-align: middle;\n",
       "    }\n",
       "\n",
       "    .dataframe tbody tr th {\n",
       "        vertical-align: top;\n",
       "    }\n",
       "\n",
       "    .dataframe thead th {\n",
       "        text-align: right;\n",
       "    }\n",
       "</style>\n",
       "<table border=\"1\" class=\"dataframe\">\n",
       "  <thead>\n",
       "    <tr style=\"text-align: right;\">\n",
       "      <th></th>\n",
       "      <th>id</th>\n",
       "      <th>gravity</th>\n",
       "      <th>ph</th>\n",
       "      <th>osmo</th>\n",
       "      <th>cond</th>\n",
       "      <th>urea</th>\n",
       "      <th>calc</th>\n",
       "      <th>target</th>\n",
       "    </tr>\n",
       "  </thead>\n",
       "  <tbody>\n",
       "    <tr>\n",
       "      <th>id</th>\n",
       "      <td>1.000000</td>\n",
       "      <td>-0.004775</td>\n",
       "      <td>-0.086619</td>\n",
       "      <td>0.008030</td>\n",
       "      <td>0.032843</td>\n",
       "      <td>-0.023822</td>\n",
       "      <td>0.032360</td>\n",
       "      <td>0.018222</td>\n",
       "    </tr>\n",
       "    <tr>\n",
       "      <th>gravity</th>\n",
       "      <td>-0.004775</td>\n",
       "      <td>1.000000</td>\n",
       "      <td>-0.290349</td>\n",
       "      <td>0.692317</td>\n",
       "      <td>0.470433</td>\n",
       "      <td>0.631710</td>\n",
       "      <td>0.494304</td>\n",
       "      <td>0.282577</td>\n",
       "    </tr>\n",
       "    <tr>\n",
       "      <th>ph</th>\n",
       "      <td>-0.086619</td>\n",
       "      <td>-0.290349</td>\n",
       "      <td>1.000000</td>\n",
       "      <td>-0.309495</td>\n",
       "      <td>-0.190185</td>\n",
       "      <td>-0.279749</td>\n",
       "      <td>-0.214402</td>\n",
       "      <td>-0.094983</td>\n",
       "    </tr>\n",
       "    <tr>\n",
       "      <th>osmo</th>\n",
       "      <td>0.008030</td>\n",
       "      <td>0.692317</td>\n",
       "      <td>-0.309495</td>\n",
       "      <td>1.000000</td>\n",
       "      <td>0.708480</td>\n",
       "      <td>0.809880</td>\n",
       "      <td>0.472114</td>\n",
       "      <td>0.244770</td>\n",
       "    </tr>\n",
       "    <tr>\n",
       "      <th>cond</th>\n",
       "      <td>0.032843</td>\n",
       "      <td>0.470433</td>\n",
       "      <td>-0.190185</td>\n",
       "      <td>0.708480</td>\n",
       "      <td>1.000000</td>\n",
       "      <td>0.499109</td>\n",
       "      <td>0.330609</td>\n",
       "      <td>0.172224</td>\n",
       "    </tr>\n",
       "    <tr>\n",
       "      <th>urea</th>\n",
       "      <td>-0.023822</td>\n",
       "      <td>0.631710</td>\n",
       "      <td>-0.279749</td>\n",
       "      <td>0.809880</td>\n",
       "      <td>0.499109</td>\n",
       "      <td>1.000000</td>\n",
       "      <td>0.489879</td>\n",
       "      <td>0.265211</td>\n",
       "    </tr>\n",
       "    <tr>\n",
       "      <th>calc</th>\n",
       "      <td>0.032360</td>\n",
       "      <td>0.494304</td>\n",
       "      <td>-0.214402</td>\n",
       "      <td>0.472114</td>\n",
       "      <td>0.330609</td>\n",
       "      <td>0.489879</td>\n",
       "      <td>1.000000</td>\n",
       "      <td>0.467439</td>\n",
       "    </tr>\n",
       "    <tr>\n",
       "      <th>target</th>\n",
       "      <td>0.018222</td>\n",
       "      <td>0.282577</td>\n",
       "      <td>-0.094983</td>\n",
       "      <td>0.244770</td>\n",
       "      <td>0.172224</td>\n",
       "      <td>0.265211</td>\n",
       "      <td>0.467439</td>\n",
       "      <td>1.000000</td>\n",
       "    </tr>\n",
       "  </tbody>\n",
       "</table>\n",
       "</div>"
      ],
      "text/plain": [
       "               id   gravity        ph      osmo      cond      urea      calc  \\\n",
       "id       1.000000 -0.004775 -0.086619  0.008030  0.032843 -0.023822  0.032360   \n",
       "gravity -0.004775  1.000000 -0.290349  0.692317  0.470433  0.631710  0.494304   \n",
       "ph      -0.086619 -0.290349  1.000000 -0.309495 -0.190185 -0.279749 -0.214402   \n",
       "osmo     0.008030  0.692317 -0.309495  1.000000  0.708480  0.809880  0.472114   \n",
       "cond     0.032843  0.470433 -0.190185  0.708480  1.000000  0.499109  0.330609   \n",
       "urea    -0.023822  0.631710 -0.279749  0.809880  0.499109  1.000000  0.489879   \n",
       "calc     0.032360  0.494304 -0.214402  0.472114  0.330609  0.489879  1.000000   \n",
       "target   0.018222  0.282577 -0.094983  0.244770  0.172224  0.265211  0.467439   \n",
       "\n",
       "           target  \n",
       "id       0.018222  \n",
       "gravity  0.282577  \n",
       "ph      -0.094983  \n",
       "osmo     0.244770  \n",
       "cond     0.172224  \n",
       "urea     0.265211  \n",
       "calc     0.467439  \n",
       "target   1.000000  "
      ]
     },
     "execution_count": 11,
     "metadata": {},
     "output_type": "execute_result"
    }
   ],
   "source": [
    "#觀察各欄資料與target欄位的關聯，發現calc欄位與target欄位可能最有關係\n",
    "df.groupby('target').mean()\n",
    "df.corr()"
   ]
  },
  {
   "cell_type": "code",
   "execution_count": 12,
   "metadata": {},
   "outputs": [
    {
     "data": {
      "text/plain": [
       "'\\n藉由剛剛的程式已能知曉此資料集無須補空值。\\n而共只有五欄能用來分類，故全部欄位都會拿來預測結果。\\n\\n'"
      ]
     },
     "execution_count": 12,
     "metadata": {},
     "output_type": "execute_result"
    }
   ],
   "source": [
    "'''\n",
    "藉由剛剛的程式已能知曉此資料集無須補空值。\n",
    "而共只有五欄能用來分類，故全部欄位都會拿來預測結果。\n",
    "\n",
    "'''"
   ]
  },
  {
   "cell_type": "code",
   "execution_count": 13,
   "metadata": {},
   "outputs": [
    {
     "name": "stdout",
     "output_type": "stream",
     "text": [
      "   id  gravity    ph  osmo  cond  urea  calc\n",
      "0   0    1.013  6.19   443  14.8   124  1.45\n",
      "1   1    1.025  5.40   703  23.6   394  4.18\n",
      "2   2    1.009  6.13   371  24.5   159  9.04\n",
      "3   3    1.021  4.91   442  20.8   398  6.63\n",
      "4   4    1.021  5.53   874  17.8   385  2.21\n",
      "0    0\n",
      "1    0\n",
      "2    0\n",
      "3    1\n",
      "4    1\n",
      "Name: target, dtype: int64\n"
     ]
    }
   ],
   "source": [
    "#創立模型的訓練集及測試集\n",
    "#dx 就是將要分類的target去除後剩餘的其他欄位，dy則是要分類的目標\n",
    "dx = df.drop(['target'], axis = 1)\n",
    "dy = df['target']\n",
    "print(dx.head())\n",
    "print(dy.head())"
   ]
  },
  {
   "cell_type": "code",
   "execution_count": 14,
   "metadata": {},
   "outputs": [],
   "source": [
    "#導入要使用的切分library，30%當測試集，且使用statify讓兩類資料在測試集平衡\n",
    "from sklearn.model_selection import train_test_split\n",
    "dx_train, dx_test, dy_train, dy_test = train_test_split(dx, dy, test_size = 0.3, random_state = 42,stratify = dy)"
   ]
  },
  {
   "cell_type": "code",
   "execution_count": 15,
   "metadata": {},
   "outputs": [],
   "source": [
    "#載入第一個model(logisticregression)\n",
    "from sklearn.linear_model import LogisticRegression\n",
    "#定義模型\n",
    "lr = LogisticRegression()\n",
    "#將訓練集放入模型裡測試\n",
    "lr.fit(dx_train, dy_train)\n",
    "#讓訓練後的模型去分類測試集\n",
    "predictions_lr=lr.predict(dx_test)\n",
    "#載入能評價模型預測結果的matrix\n",
    "from sklearn.metrics import confusion_matrix,accuracy_score, recall_score, precision_score"
   ]
  },
  {
   "cell_type": "code",
   "execution_count": 16,
   "metadata": {},
   "outputs": [
    {
     "data": {
      "text/html": [
       "<div>\n",
       "<style scoped>\n",
       "    .dataframe tbody tr th:only-of-type {\n",
       "        vertical-align: middle;\n",
       "    }\n",
       "\n",
       "    .dataframe tbody tr th {\n",
       "        vertical-align: top;\n",
       "    }\n",
       "\n",
       "    .dataframe thead th {\n",
       "        text-align: right;\n",
       "    }\n",
       "</style>\n",
       "<table border=\"1\" class=\"dataframe\">\n",
       "  <thead>\n",
       "    <tr style=\"text-align: right;\">\n",
       "      <th></th>\n",
       "      <th>Predict 0</th>\n",
       "      <th>Predict 1</th>\n",
       "    </tr>\n",
       "  </thead>\n",
       "  <tbody>\n",
       "    <tr>\n",
       "      <th>True 0</th>\n",
       "      <td>55</td>\n",
       "      <td>14</td>\n",
       "    </tr>\n",
       "    <tr>\n",
       "      <th>True 1</th>\n",
       "      <td>27</td>\n",
       "      <td>29</td>\n",
       "    </tr>\n",
       "  </tbody>\n",
       "</table>\n",
       "</div>"
      ],
      "text/plain": [
       "         Predict 0  Predict 1\n",
       "True 0          55         14\n",
       "True 1          27         29"
      ]
     },
     "execution_count": 16,
     "metadata": {},
     "output_type": "execute_result"
    }
   ],
   "source": [
    "#因資料集沒有不平等的問題，故等等主要還是使用準確度與其他模型對比\n",
    "accuracy_score(dy_test,predictions_lr) \n",
    "recall_score(dy_test, predictions_lr) #怕Type II Error的，可使用此評價\n",
    "precision_score(dy_test, predictions_lr) #怕Type I Error的，可使用此評價\n",
    "#畫出confusion matrix\n",
    "pd.DataFrame(confusion_matrix(dy_test, predictions_lr), columns=['Predict 0', 'Predict 1'], index=['True 0','True 1 '])\n"
   ]
  },
  {
   "cell_type": "code",
   "execution_count": 17,
   "metadata": {},
   "outputs": [
    {
     "data": {
      "text/html": [
       "<div>\n",
       "<style scoped>\n",
       "    .dataframe tbody tr th:only-of-type {\n",
       "        vertical-align: middle;\n",
       "    }\n",
       "\n",
       "    .dataframe tbody tr th {\n",
       "        vertical-align: top;\n",
       "    }\n",
       "\n",
       "    .dataframe thead th {\n",
       "        text-align: right;\n",
       "    }\n",
       "</style>\n",
       "<table border=\"1\" class=\"dataframe\">\n",
       "  <thead>\n",
       "    <tr style=\"text-align: right;\">\n",
       "      <th></th>\n",
       "      <th>Predict 0</th>\n",
       "      <th>Predict 1</th>\n",
       "    </tr>\n",
       "  </thead>\n",
       "  <tbody>\n",
       "    <tr>\n",
       "      <th>True 0</th>\n",
       "      <td>50</td>\n",
       "      <td>19</td>\n",
       "    </tr>\n",
       "    <tr>\n",
       "      <th>True 1</th>\n",
       "      <td>19</td>\n",
       "      <td>37</td>\n",
       "    </tr>\n",
       "  </tbody>\n",
       "</table>\n",
       "</div>"
      ],
      "text/plain": [
       "         Predict 0  Predict 1\n",
       "True 0          50         19\n",
       "True 1          19         37"
      ]
     },
     "execution_count": 17,
     "metadata": {},
     "output_type": "execute_result"
    }
   ],
   "source": [
    "#載入第二個model(決策樹)--前面資料切好，不用再切一次\n",
    "from sklearn import tree\n",
    "dt = tree.DecisionTreeClassifier()\n",
    "dt.fit(dx_train, dy_train)\n",
    "predictions_dt=dt.predict(dx_test)\n",
    "#發現decision tree 的預測結果比 logisticregression還要好\n",
    "accuracy_score(dy_test,predictions_dt) \n",
    "recall_score(dy_test, predictions_dt) #怕Type II Error的，可使用此評價\n",
    "precision_score(dy_test, predictions_dt) #怕Type I Error的，可使用此評價\n",
    "#畫出confusion matrix\n",
    "pd.DataFrame(confusion_matrix(dy_test, predictions_dt), columns=['Predict 0', 'Predict 1'], index=['True 0','True 1 '])\n"
   ]
  },
  {
   "cell_type": "code",
   "execution_count": 18,
   "metadata": {},
   "outputs": [
    {
     "data": {
      "text/html": [
       "<div>\n",
       "<style scoped>\n",
       "    .dataframe tbody tr th:only-of-type {\n",
       "        vertical-align: middle;\n",
       "    }\n",
       "\n",
       "    .dataframe tbody tr th {\n",
       "        vertical-align: top;\n",
       "    }\n",
       "\n",
       "    .dataframe thead th {\n",
       "        text-align: right;\n",
       "    }\n",
       "</style>\n",
       "<table border=\"1\" class=\"dataframe\">\n",
       "  <thead>\n",
       "    <tr style=\"text-align: right;\">\n",
       "      <th></th>\n",
       "      <th>Predict 0</th>\n",
       "      <th>Predict 1</th>\n",
       "    </tr>\n",
       "  </thead>\n",
       "  <tbody>\n",
       "    <tr>\n",
       "      <th>True 0</th>\n",
       "      <td>52</td>\n",
       "      <td>17</td>\n",
       "    </tr>\n",
       "    <tr>\n",
       "      <th>True 1</th>\n",
       "      <td>17</td>\n",
       "      <td>39</td>\n",
       "    </tr>\n",
       "  </tbody>\n",
       "</table>\n",
       "</div>"
      ],
      "text/plain": [
       "         Predict 0  Predict 1\n",
       "True 0          52         17\n",
       "True 1          17         39"
      ]
     },
     "execution_count": 18,
     "metadata": {},
     "output_type": "execute_result"
    }
   ],
   "source": [
    "#載入第三個模型(random forest)\n",
    "#由於random forest是decision tree的進階版，一般來說會預期分類結果比decision tree好\n",
    "from sklearn.ensemble import RandomForestClassifier\n",
    "#因為怕子樹太多可能過度擬和或拖慢運算速度，故設定上限為100顆\n",
    "RFC=RandomForestClassifier(n_estimators=100)\n",
    "RFC.fit(dx_train, dy_train)\n",
    "predictions_rfc=RFC.predict(dx_test)\n",
    "#果然與預期一樣，隨機森林比之前兩個模型都好\n",
    "accuracy_score(dy_test,predictions_rfc) \n",
    "recall_score(dy_test, predictions_rfc) #怕Type II Error的，可使用此評價\n",
    "precision_score(dy_test, predictions_rfc) #怕Type I Error的，可使用此評價\n",
    "#畫出confusion matrix\n",
    "pd.DataFrame(confusion_matrix(dy_test, predictions_rfc), columns=['Predict 0', 'Predict 1'], index=['True 0','True 1 '])\n"
   ]
  },
  {
   "cell_type": "code",
   "execution_count": 20,
   "metadata": {},
   "outputs": [
    {
     "data": {
      "text/html": [
       "<div>\n",
       "<style scoped>\n",
       "    .dataframe tbody tr th:only-of-type {\n",
       "        vertical-align: middle;\n",
       "    }\n",
       "\n",
       "    .dataframe tbody tr th {\n",
       "        vertical-align: top;\n",
       "    }\n",
       "\n",
       "    .dataframe thead th {\n",
       "        text-align: right;\n",
       "    }\n",
       "</style>\n",
       "<table border=\"1\" class=\"dataframe\">\n",
       "  <thead>\n",
       "    <tr style=\"text-align: right;\">\n",
       "      <th></th>\n",
       "      <th>Predict 0</th>\n",
       "      <th>Predict 1</th>\n",
       "    </tr>\n",
       "  </thead>\n",
       "  <tbody>\n",
       "    <tr>\n",
       "      <th>True 0</th>\n",
       "      <td>47</td>\n",
       "      <td>22</td>\n",
       "    </tr>\n",
       "    <tr>\n",
       "      <th>True 1</th>\n",
       "      <td>29</td>\n",
       "      <td>27</td>\n",
       "    </tr>\n",
       "  </tbody>\n",
       "</table>\n",
       "</div>"
      ],
      "text/plain": [
       "         Predict 0  Predict 1\n",
       "True 0          47         22\n",
       "True 1          29         27"
      ]
     },
     "execution_count": 20,
     "metadata": {},
     "output_type": "execute_result"
    }
   ],
   "source": [
    "#載入第四個模型(KNN)\n",
    "from sklearn.neighbors import KNeighborsClassifier\n",
    "knn = KNeighborsClassifier()\n",
    "knn.fit(dx_train, dy_train)\n",
    "predictions_knn = knn.predict(dx_test)\n",
    "accuracy_score(dy_test,predictions_knn) \n",
    "recall_score(dy_test, predictions_knn) #怕Type II Error的，可使用此評價\n",
    "precision_score(dy_test, predictions_knn) #怕Type I Error的，可使用此評價\n",
    "#畫出confusion matrix\n",
    "pd.DataFrame(confusion_matrix(dy_test, predictions_knn), columns=['Predict 0', 'Predict 1'], index=['True 0','True 1 '])\n",
    "\n"
   ]
  },
  {
   "cell_type": "code",
   "execution_count": 21,
   "metadata": {},
   "outputs": [
    {
     "data": {
      "text/html": [
       "<div>\n",
       "<style scoped>\n",
       "    .dataframe tbody tr th:only-of-type {\n",
       "        vertical-align: middle;\n",
       "    }\n",
       "\n",
       "    .dataframe tbody tr th {\n",
       "        vertical-align: top;\n",
       "    }\n",
       "\n",
       "    .dataframe thead th {\n",
       "        text-align: right;\n",
       "    }\n",
       "</style>\n",
       "<table border=\"1\" class=\"dataframe\">\n",
       "  <thead>\n",
       "    <tr style=\"text-align: right;\">\n",
       "      <th></th>\n",
       "      <th>Predict 0</th>\n",
       "      <th>Predict 1</th>\n",
       "    </tr>\n",
       "  </thead>\n",
       "  <tbody>\n",
       "    <tr>\n",
       "      <th>True 0</th>\n",
       "      <td>39</td>\n",
       "      <td>30</td>\n",
       "    </tr>\n",
       "    <tr>\n",
       "      <th>True 1</th>\n",
       "      <td>21</td>\n",
       "      <td>35</td>\n",
       "    </tr>\n",
       "  </tbody>\n",
       "</table>\n",
       "</div>"
      ],
      "text/plain": [
       "         Predict 0  Predict 1\n",
       "True 0          39         30\n",
       "True 1          21         35"
      ]
     },
     "execution_count": 21,
     "metadata": {},
     "output_type": "execute_result"
    }
   ],
   "source": [
    "#載入第五個模型(SVM)   \n",
    "#一般SVM是在maching learning中預測能力最好的模型 我們使用此資料集驗證看看\n",
    "from sklearn.svm import SVC\n",
    "svm = SVC()\n",
    "svm.fit(dx_train, dy_train)\n",
    "predictions_svm = svm.predict(dx_test)\n",
    "accuracy_score(dy_test,predictions_svm) #跟預期的效果有差異\n",
    "recall_score(dy_test, predictions_svm) #怕Type II Error的，可使用此評價\n",
    "precision_score(dy_test, predictions_svm) #怕Type I Error的，可使用此評價\n",
    "#畫出confusion matrix\n",
    "pd.DataFrame(confusion_matrix(dy_test, predictions_svm), columns=['Predict 0', 'Predict 1'], index=['True 0','True 1 '])\n",
    "\n"
   ]
  },
  {
   "cell_type": "code",
   "execution_count": 22,
   "metadata": {},
   "outputs": [
    {
     "name": "stdout",
     "output_type": "stream",
     "text": [
      "accuracy of logisticregression: 0.672 \n",
      " accuracy of decision tree: 0.696 \n",
      " accuracy of random forest: 0.728 \n",
      " accuracy of KNN: 0.592 \n",
      " accuracy of svm: 0.592\n"
     ]
    }
   ],
   "source": [
    "#將五個不同模型的準確度印出\n",
    "#看結果可發現RANDOM FOREST 表現最好因此拿它當比賽版本\n",
    "print('accuracy of logisticregression:', accuracy_score(dy_test,predictions_lr),'\\n','accuracy of decision tree:', accuracy_score(dy_test,predictions_dt),'\\n', 'accuracy of random forest:', accuracy_score(dy_test,predictions_rfc), '\\n', 'accuracy of KNN:',accuracy_score(dy_test,predictions_knn), '\\n',  'accuracy of svm:', accuracy_score(dy_test,predictions_svm)   )"
   ]
  },
  {
   "attachments": {},
   "cell_type": "markdown",
   "metadata": {},
   "source": [
    "可以看到跟預期的不一樣，SVM的分類效果不是最好的。\n",
    "因此最後將RANDOM forest拿出來當最這次比賽的模型，\n",
    "不過在比賽前，先尋找最佳參數來最大程度的提升準確度"
   ]
  },
  {
   "cell_type": "code",
   "execution_count": 23,
   "metadata": {},
   "outputs": [],
   "source": [
    "#但在送出前，進行參數優化來增加準確度\n",
    "#參數優化一般有兩個套件選擇，optuna或是grid search。\n",
    "#自己習慣在maching learning使用grid search，NN才使用optuna\n",
    "\n",
    "from sklearn.model_selection import GridSearchCV, RandomizedSearchCV"
   ]
  },
  {
   "cell_type": "code",
   "execution_count": 24,
   "metadata": {},
   "outputs": [
    {
     "name": "stdout",
     "output_type": "stream",
     "text": [
      "best params: {'max_depth': 15, 'max_features': 'sqrt', 'min_samples_leaf': 10, 'n_estimators': 10}\n",
      "test score: 0.712\n"
     ]
    }
   ],
   "source": [
    "#設定參數的範圍、選項，讓程式去尋找最佳參數\n",
    "\n",
    "para_grid = {'max_features' : ['auto', 'sqrt', 'log2'],'max_depth':[5,10,15,20],'n_estimators' : [10,30, 50, 100, 150, 200],'min_samples_leaf' : [10,30, 50,100]}\n",
    "model = GridSearchCV(RandomForestClassifier(), para_grid)\n",
    "#找最佳參數的話，找越多的參數、越大的範圍所需的時間就越多，但準確度也會上升\n",
    "model.fit(dx_train, dy_train)\n",
    "#利用此行程式印出最佳參數\n",
    "print('best params:', model.best_params_)\n",
    "#這行會印出最佳參數帶入後預測測試集的準確度\n",
    "print('test score:', model.score(dx_test, dy_test).round(3))"
   ]
  },
  {
   "cell_type": "code",
   "execution_count": 29,
   "metadata": {},
   "outputs": [
    {
     "name": "stdout",
     "output_type": "stream",
     "text": [
      "the accuarcy before tunning parameter 0.728 \n",
      " the accuarcy after tunning parameter 0.752\n"
     ]
    }
   ],
   "source": [
    "#再將模型拿過來並使用最佳參數跑模型\n",
    "\n",
    "RFC_final=RandomForestClassifier(max_depth=15, max_features='sqrt',min_samples_leaf=30,n_estimators=100)\n",
    "RFC_final.fit(dx_train, dy_train)\n",
    "predictions_rfc_final=RFC_final.predict(dx_test)\n",
    "#果然與預期一樣，隨機森林比之前兩個模型都好\n",
    "accuracy_score(dy_test,predictions_rfc_final) \n",
    "accuracy_score(dy_test,predictions_rfc) \n",
    "#將調參數前與調參數後做比較，發現調完後的確準確度有提升一些\n",
    "print('the accuarcy before tunning parameter',accuracy_score(dy_test,predictions_rfc), '\\n','the accuarcy after tunning parameter', accuracy_score(dy_test,predictions_rfc_final) )\n"
   ]
  },
  {
   "cell_type": "code",
   "execution_count": 27,
   "metadata": {},
   "outputs": [],
   "source": [
    "#將最後的model打包輸出\n",
    "import joblib\n",
    "#joblib.dump(RFC_final,'Classification.pk1',compress=3)"
   ]
  },
  {
   "attachments": {},
   "cell_type": "markdown",
   "metadata": {},
   "source": [
    "最終比賽結果的準確度是0.79333，感覺還有進步空間。\n",
    "而我個人推測有幾點可能可以讓準確度提升:1. 增加資料量，其實訓練集才400多筆，若增加資料筆數很有可能讓準確度更高 2. 使用更複雜的模型，隨機森林畢竟還是比較初步的模型，若是使用到NN模型，比如LSTM或GRU，相信準確度也有機會再一定幅度的提升。\n",
    "除此之外，根據最終的結果，其實有點讓我驚訝，在這五個模型中，我原以為SVM會勝出，成為之中的佼佼者，不料最後勝出的竟是隨機森林，有點超出我的預料。我猜最主要的原因是資料可能真的少了一些些，或是SVM真的不適合此資料。另一個讓我學習到的是，縱然我已用gridsearch去尋找最佳參數了，但準確度大約只提升了0.03，可能在參數的選擇及調整上，我還有一定空間的進步。\n",
    "總之，這次的競賽體驗讓我學到很多，我覺得其中最難的地方應該是要將coding連上github吧(處理這個快花得比我coding的時間多了.......哈哈......)\n",
    "不過最後一步一腳印，很開心有了屬於自己的一份成果，也期待剩下半學習能跟老師學得甚麼新模型、新的處理資料的方法，謝謝老師!"
   ]
  }
 ],
 "metadata": {
  "kernelspec": {
   "display_name": "base",
   "language": "python",
   "name": "python3"
  },
  "language_info": {
   "codemirror_mode": {
    "name": "ipython",
    "version": 3
   },
   "file_extension": ".py",
   "mimetype": "text/x-python",
   "name": "python",
   "nbconvert_exporter": "python",
   "pygments_lexer": "ipython3",
   "version": "3.9.7"
  },
  "orig_nbformat": 4
 },
 "nbformat": 4,
 "nbformat_minor": 2
}
